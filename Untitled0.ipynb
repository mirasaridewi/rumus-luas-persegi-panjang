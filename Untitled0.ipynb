{
  "nbformat": 4,
  "nbformat_minor": 0,
  "metadata": {
    "colab": {
      "provenance": [],
      "authorship_tag": "ABX9TyOYAzSmwgT2lUGFHCemINpa",
      "include_colab_link": true
    },
    "kernelspec": {
      "name": "python3",
      "display_name": "Python 3"
    },
    "language_info": {
      "name": "python"
    }
  },
  "cells": [
    {
      "cell_type": "markdown",
      "metadata": {
        "id": "view-in-github",
        "colab_type": "text"
      },
      "source": [
        "<a href=\"https://colab.research.google.com/github/mirasaridewi/rumus-luas-persegi-panjang/blob/main/Untitled0.ipynb\" target=\"_parent\"><img src=\"https://colab.research.google.com/assets/colab-badge.svg\" alt=\"Open In Colab\"/></a>"
      ]
    },
    {
      "cell_type": "markdown",
      "source": [
        "kelompok 1"
      ],
      "metadata": {
        "id": "Q6SKdSZJHJ6A"
      }
    },
    {
      "cell_type": "code",
      "execution_count": 3,
      "metadata": {
        "colab": {
          "base_uri": "https://localhost:8080/"
        },
        "id": "9toYaXhoHGna",
        "outputId": "aab3b9ca-9b75-4f84-e8a4-bf908e586396"
      },
      "outputs": [
        {
          "output_type": "stream",
          "name": "stdout",
          "text": [
            "tulis angka pertama1\n",
            "tulis angka kedua: 2\n",
            "bilangan terbesar adalah2\n"
          ]
        }
      ],
      "source": [
        "angka1 = int(input(\"tulis angka pertama\"))\n",
        "angka2 = int(input(\"tulis angka kedua: \"))\n",
        "\n",
        "terbesar = max(angka1,angka2)\n",
        "print(f\"bilangan terbesar adalah {terbesar}\")"
      ]
    },
    {
      "cell_type": "markdown",
      "source": [],
      "metadata": {
        "id": "zbOcy4A6Hwsw"
      }
    }
  ]
}